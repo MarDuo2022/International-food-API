{
 "cells": [
  {
   "cell_type": "code",
   "execution_count": 1,
   "id": "c39eb910",
   "metadata": {},
   "outputs": [],
   "source": [
    "import json\n",
    "import requests\n",
    "# import ast\n",
    "\n",
    "from keys import api_key"
   ]
  },
  {
   "cell_type": "code",
   "execution_count": 2,
   "id": "d6a0dc71",
   "metadata": {},
   "outputs": [
    {
     "name": "stdout",
     "output_type": "stream",
     "text": [
      "How many minutes do you have to prepare this meal? 30\n",
      "{\"results\":[{\"id\":547775,\"title\":\"Creamy Avocado Pasta\",\"image\":\"https://spoonacular.com/recipeImages/547775-312x231.jpg\",\"imageType\":\"jpg\"},{\"id\":818941,\"title\":\"Avocado Toast with Eggs, Spinach, and Tomatoes\",\"image\":\"https://spoonacular.com/recipeImages/818941-312x231.jpg\",\"imageType\":\"jpg\"},{\"id\":495111,\"title\":\"Citrus Sesame Kale\",\"image\":\"https://spoonacular.com/recipeImages/495111-312x231.jpg\",\"imageType\":\"jpg\"},{\"id\":689502,\"title\":\"Melt In Your Mouth Kale Salad\",\"image\":\"https://spoonacular.com/recipeImages/689502-312x231.jpg\",\"imageType\":\"jpg\"},{\"id\":582897,\"title\":\"Mexican Salad with Lime Dressing\",\"image\":\"https://spoonacular.com/recipeImages/582897-312x231.jpg\",\"imageType\":\"jpg\"},{\"id\":777037,\"title\":\"Weekly Meal Plan\",\"image\":\"https://spoonacular.com/recipeImages/777037-312x231.jpg\",\"imageType\":\"jpg\"},{\"id\":801710,\"title\":\"Matcha Green Tea and Pineapple Smoothie\",\"image\":\"https://spoonacular.com/recipeImages/801710-312x231.jpg\",\"imageType\":\"jpg\"},{\"id\":695486,\"title\":\"Green Smoothie\",\"image\":\"https://spoonacular.com/recipeImages/695486-312x231.jpg\",\"imageType\":\"jpg\"},{\"id\":812966,\"title\":\"Low Carb Frosty\",\"image\":\"https://spoonacular.com/recipeImages/812966-312x231.jpg\",\"imageType\":\"jpg\"},{\"id\":584495,\"title\":\"Chopped Kale Salad with Pomegranate & Avocado\",\"image\":\"https://spoonacular.com/recipeImages/584495-312x231.jpg\",\"imageType\":\"jpg\"}],\"offset\":0,\"number\":10,\"totalResults\":129178}\n"
     ]
    }
   ],
   "source": [
    "#url found from right hand panel\n",
    "url = 'https://spoonacular-recipe-food-nutrition-v1.p.rapidapi.com/recipes/complexSearch'\n",
    "\n",
    "#get inputs\n",
    "time=input('How many minutes do you have to prepare this meal? ')\n",
    "\n",
    "#set params\n",
    "params={\"maxReadyTime\":time}\n",
    "\n",
    "headers = {\n",
    "\t\"X-RapidAPI-Key\": api_key,\n",
    "\t\"X-RapidAPI-Host\": \"spoonacular-recipe-food-nutrition-v1.p.rapidapi.com\"\n",
    "}\n",
    "\n",
    "response = requests.get( url, headers=headers, params=params)\n",
    "response_json=response.json()\n",
    "print(response.text)"
   ]
  },
  {
   "cell_type": "code",
   "execution_count": 3,
   "id": "8b9f9589",
   "metadata": {},
   "outputs": [],
   "source": [
    "# response_dict=ast.literal_eval(response.text)"
   ]
  },
  {
   "cell_type": "code",
   "execution_count": 4,
   "id": "e7a01167",
   "metadata": {},
   "outputs": [
    {
     "name": "stdout",
     "output_type": "stream",
     "text": [
      "{\n",
      "    \"number\": 10,\n",
      "    \"offset\": 0,\n",
      "    \"results\": [\n",
      "        {\n",
      "            \"id\": 547775,\n",
      "            \"image\": \"https://spoonacular.com/recipeImages/547775-312x231.jpg\",\n",
      "            \"imageType\": \"jpg\",\n",
      "            \"title\": \"Creamy Avocado Pasta\"\n",
      "        },\n",
      "        {\n",
      "            \"id\": 818941,\n",
      "            \"image\": \"https://spoonacular.com/recipeImages/818941-312x231.jpg\",\n",
      "            \"imageType\": \"jpg\",\n",
      "            \"title\": \"Avocado Toast with Eggs, Spinach, and Tomatoes\"\n",
      "        },\n",
      "        {\n",
      "            \"id\": 495111,\n",
      "            \"image\": \"https://spoonacular.com/recipeImages/495111-312x231.jpg\",\n",
      "            \"imageType\": \"jpg\",\n",
      "            \"title\": \"Citrus Sesame Kale\"\n",
      "        },\n",
      "        {\n",
      "            \"id\": 689502,\n",
      "            \"image\": \"https://spoonacular.com/recipeImages/689502-312x231.jpg\",\n",
      "            \"imageType\": \"jpg\",\n",
      "            \"title\": \"Melt In Your Mouth Kale Salad\"\n",
      "        },\n",
      "        {\n",
      "            \"id\": 582897,\n",
      "            \"image\": \"https://spoonacular.com/recipeImages/582897-312x231.jpg\",\n",
      "            \"imageType\": \"jpg\",\n",
      "            \"title\": \"Mexican Salad with Lime Dressing\"\n",
      "        },\n",
      "        {\n",
      "            \"id\": 777037,\n",
      "            \"image\": \"https://spoonacular.com/recipeImages/777037-312x231.jpg\",\n",
      "            \"imageType\": \"jpg\",\n",
      "            \"title\": \"Weekly Meal Plan\"\n",
      "        },\n",
      "        {\n",
      "            \"id\": 801710,\n",
      "            \"image\": \"https://spoonacular.com/recipeImages/801710-312x231.jpg\",\n",
      "            \"imageType\": \"jpg\",\n",
      "            \"title\": \"Matcha Green Tea and Pineapple Smoothie\"\n",
      "        },\n",
      "        {\n",
      "            \"id\": 695486,\n",
      "            \"image\": \"https://spoonacular.com/recipeImages/695486-312x231.jpg\",\n",
      "            \"imageType\": \"jpg\",\n",
      "            \"title\": \"Green Smoothie\"\n",
      "        },\n",
      "        {\n",
      "            \"id\": 812966,\n",
      "            \"image\": \"https://spoonacular.com/recipeImages/812966-312x231.jpg\",\n",
      "            \"imageType\": \"jpg\",\n",
      "            \"title\": \"Low Carb Frosty\"\n",
      "        },\n",
      "        {\n",
      "            \"id\": 584495,\n",
      "            \"image\": \"https://spoonacular.com/recipeImages/584495-312x231.jpg\",\n",
      "            \"imageType\": \"jpg\",\n",
      "            \"title\": \"Chopped Kale Salad with Pomegranate & Avocado\"\n",
      "        }\n",
      "    ],\n",
      "    \"totalResults\": 129178\n",
      "}\n"
     ]
    }
   ],
   "source": [
    "print(json.dumps(response_json,indent=4,sort_keys=True))"
   ]
  },
  {
   "cell_type": "code",
   "execution_count": 5,
   "id": "41d0798d",
   "metadata": {},
   "outputs": [
    {
     "data": {
      "text/plain": [
       "'Creamy Avocado Pasta'"
      ]
     },
     "execution_count": 5,
     "metadata": {},
     "output_type": "execute_result"
    }
   ],
   "source": [
    "response_json['results'][0]['title']"
   ]
  },
  {
   "cell_type": "code",
   "execution_count": 6,
   "id": "fa65d93d",
   "metadata": {},
   "outputs": [
    {
     "data": {
      "text/plain": [
       "'https://spoonacular.com/recipeImages/547775-312x231.jpg'"
      ]
     },
     "execution_count": 6,
     "metadata": {},
     "output_type": "execute_result"
    }
   ],
   "source": [
    "response_json['results'][0]['image']"
   ]
  },
  {
   "cell_type": "code",
   "execution_count": null,
   "id": "1d3bddb0",
   "metadata": {},
   "outputs": [],
   "source": []
  }
 ],
 "metadata": {
  "kernelspec": {
   "display_name": "Python 3 (ipykernel)",
   "language": "python",
   "name": "python3"
  },
  "language_info": {
   "codemirror_mode": {
    "name": "ipython",
    "version": 3
   },
   "file_extension": ".py",
   "mimetype": "text/x-python",
   "name": "python",
   "nbconvert_exporter": "python",
   "pygments_lexer": "ipython3",
   "version": "3.9.12"
  }
 },
 "nbformat": 4,
 "nbformat_minor": 5
}
