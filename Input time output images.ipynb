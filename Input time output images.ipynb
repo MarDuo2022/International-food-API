{
 "cells": [
  {
   "cell_type": "code",
   "execution_count": null,
   "id": "2ca23c46",
   "metadata": {},
   "outputs": [],
   "source": [
    "import json\n",
    "import requests\n",
    "# import ast\n",
    "\n",
    "from keys import api_key"
   ]
  },
  {
   "cell_type": "code",
   "execution_count": null,
   "id": "a5046acd",
   "metadata": {},
   "outputs": [],
   "source": [
    "#url found from right hand panel\n",
    "url = 'https://spoonacular-recipe-food-nutrition-v1.p.rapidapi.com/recipes/complexSearch'\n",
    "\n",
    "#get inputs\n",
    "time=input('How many minutes do you have to prepare this meal? ')\n",
    "\n",
    "#set params\n",
    "params={\"maxReadyTime\":time}\n",
    "\n",
    "headers = {\n",
    "\t\"X-RapidAPI-Key\": api_key,\n",
    "\t\"X-RapidAPI-Host\": \"spoonacular-recipe-food-nutrition-v1.p.rapidapi.com\"\n",
    "}\n",
    "\n",
    "response = requests.get( url, headers=headers, params=params)\n",
    "response_json=response.json()\n",
    "print(response.text)"
   ]
  },
  {
   "cell_type": "code",
   "execution_count": null,
   "id": "5b8d7aac",
   "metadata": {},
   "outputs": [],
   "source": [
    "# response_dict=ast.literal_eval(response.text)"
   ]
  },
  {
   "cell_type": "code",
   "execution_count": null,
   "id": "c88c6f94",
   "metadata": {},
   "outputs": [],
   "source": [
    "print(json.dumps(response_json,indent=4,sort_keys=True))"
   ]
  },
  {
   "cell_type": "code",
   "execution_count": null,
   "id": "98e7403a",
   "metadata": {},
   "outputs": [],
   "source": [
    "response_json['results'][0]['title']"
   ]
  },
  {
   "cell_type": "code",
   "execution_count": null,
   "id": "beebe941",
   "metadata": {},
   "outputs": [],
   "source": [
    "response_json['results'][0]['image']"
   ]
  },
  {
   "cell_type": "code",
   "execution_count": null,
   "id": "7eba3418",
   "metadata": {},
   "outputs": [],
   "source": []
  }
 ],
 "metadata": {
  "kernelspec": {
   "display_name": "Python 3 (ipykernel)",
   "language": "python",
   "name": "python3"
  },
  "language_info": {
   "codemirror_mode": {
    "name": "ipython",
    "version": 3
   },
   "file_extension": ".py",
   "mimetype": "text/x-python",
   "name": "python",
   "nbconvert_exporter": "python",
   "pygments_lexer": "ipython3",
   "version": "3.7.7"
  }
 },
 "nbformat": 4,
 "nbformat_minor": 5
}
