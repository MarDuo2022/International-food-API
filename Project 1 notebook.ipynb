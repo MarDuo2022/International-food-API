{
 "cells": [
  {
   "cell_type": "markdown",
   "id": "a9c28573",
   "metadata": {},
   "source": [
    "# We want to use this notebook to write our code for the project"
   ]
  },
  {
   "cell_type": "markdown",
   "id": "3211eb1e",
   "metadata": {},
   "source": [
    "Before every working section, please do these in GitBash inside this repository folder:\n",
    "    source activate PythonData\n",
    "    git pull\n",
    "    jupyter notebook\n"
   ]
  },
  {
   "cell_type": "code",
   "execution_count": null,
   "id": "fa670ba3",
   "metadata": {},
   "outputs": [],
   "source": []
  }
 ],
 "metadata": {
  "kernelspec": {
   "display_name": "Python [conda env:PythonData]",
   "language": "python",
   "name": "conda-env-PythonData-py"
  },
  "language_info": {
   "codemirror_mode": {
    "name": "ipython",
    "version": 3
   },
   "file_extension": ".py",
   "mimetype": "text/x-python",
   "name": "python",
   "nbconvert_exporter": "python",
   "pygments_lexer": "ipython3",
   "version": "3.7.7"
  }
 },
 "nbformat": 4,
 "nbformat_minor": 5
}
