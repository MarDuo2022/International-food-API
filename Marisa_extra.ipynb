{
 "cells": [
  {
   "cell_type": "code",
   "execution_count": null,
   "id": "c317d9c8",
   "metadata": {},
   "outputs": [],
   "source": [
    "import json\n",
    "import requests\n",
    "import matplotlib.pyplot as plt\n",
    "import pandas as pd\n",
    "import hvplot.pandas\n",
    "# import pandas as pd\n",
    "\n",
    "from keys import api_key"
   ]
  },
  {
   "cell_type": "code",
   "execution_count": null,
   "id": "0d69fad5",
   "metadata": {},
   "outputs": [],
   "source": [
    "#url found from right hand panel\n",
    "url = 'https://spoonacular-recipe-food-nutrition-v1.p.rapidapi.com/recipes/complexSearch'\n",
    "\n",
    "#comparing what cuisine\n",
    "cuisines=['Indian','Vietnamese','Chinese','Greek','Italian','French','Thai','Spanish','South African','Mexican','Korean','Japanese']\n",
    "number_cuisine_vegetarian=[]"
   ]
  },
  {
   "cell_type": "code",
   "execution_count": null,
   "id": "c3cc5d9d",
   "metadata": {},
   "outputs": [],
   "source": [
    "#VEGETARIAN\n",
    "for cuisine in cuisines:\n",
    "    params={\"cuisine\":cuisine,\n",
    "       \"diet\":\"vegetarian\"}\n",
    "\n",
    "    headers = {\n",
    "        \"X-RapidAPI-Key\": api_key,\n",
    "        \"X-RapidAPI-Host\": \"spoonacular-recipe-food-nutrition-v1.p.rapidapi.com\"\n",
    "    }\n",
    "\n",
    "    response = requests.get(url, headers=headers, params=params)\n",
    "    response_json=response.json()\n",
    "    number_cuisine_vegetarian.append(response_json[\"totalResults\"])"
   ]
  },
  {
   "cell_type": "code",
   "execution_count": null,
   "id": "f7c5a6e2",
   "metadata": {},
   "outputs": [],
   "source": [
    "number_cuisine_vegetarian"
   ]
  },
  {
   "cell_type": "code",
   "execution_count": null,
   "id": "cb25fefa",
   "metadata": {},
   "outputs": [],
   "source": [
    "country_df=pd.DataFrame({\"Country\":[\"India\", \"Vietnam\", \"China\", \"Greece\", \"Italia\", \"France\",'Thailand','Spain',\n",
    "                                   'South Africa','Mexico','Korea','Japan'],\n",
    "                        \"Lat\":[20.5937,14.0583,35.8617,39.0742,41.8719,46.2276,15.8700,40.4637,30.5595,23.6345,35.9078,36.2048],\n",
    "                        \"Lng\":[78.9629,108.2772,104.1954,21.8243,12.5674,2.2137,100.9925,3.7492,22.9375,-102.5528,127.7669,138.2529]})\n",
    "country_df['VegDietNumber']=number_cuisine_vegetarian\n",
    "country_df"
   ]
  },
  {
   "cell_type": "code",
   "execution_count": null,
   "id": "45c83238",
   "metadata": {},
   "outputs": [],
   "source": [
    "map_plot1 = country_df.hvplot.points(\n",
    "    \"Lng\",\n",
    "    \"Lat\",\n",
    "    geo = True,\n",
    "    tiles = \"OSM\",\n",
    "    size = \"VegDietNumber\",\n",
    "    scale = 1,\n",
    "    color = \"Country\"\n",
    ")\n",
    "\n",
    "# Display the map plot\n",
    "map_plot1"
   ]
  },
  {
   "cell_type": "code",
   "execution_count": null,
   "id": "c73b1b4d",
   "metadata": {},
   "outputs": [],
   "source": []
  }
 ],
 "metadata": {
  "kernelspec": {
   "display_name": "Python [conda env:PythonData]",
   "language": "python",
   "name": "conda-env-PythonData-py"
  },
  "language_info": {
   "codemirror_mode": {
    "name": "ipython",
    "version": 3
   },
   "file_extension": ".py",
   "mimetype": "text/x-python",
   "name": "python",
   "nbconvert_exporter": "python",
   "pygments_lexer": "ipython3",
   "version": "3.7.7"
  }
 },
 "nbformat": 4,
 "nbformat_minor": 5
}
