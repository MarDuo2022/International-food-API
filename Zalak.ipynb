{
 "cells": [
  {
   "cell_type": "code",
   "execution_count": 10,
   "id": "34169291",
   "metadata": {},
   "outputs": [],
   "source": [
    "import json\n",
    "import requests\n",
    "# import ast\n",
    "\n",
    "from keys import api_key\n",
    "\n",
    "import matplotlib.pyplot as plt\n",
    "import numpy as np\n"
   ]
  },
  {
   "cell_type": "code",
   "execution_count": 2,
   "id": "f0546ff8",
   "metadata": {},
   "outputs": [
    {
     "name": "stdout",
     "output_type": "stream",
     "text": [
      "How many minutes do you have to prepare this meal? 30\n",
      "{\"results\":[{\"id\":547775,\"title\":\"Creamy Avocado Pasta\",\"image\":\"https://spoonacular.com/recipeImages/547775-312x231.jpg\",\"imageType\":\"jpg\"},{\"id\":818941,\"title\":\"Avocado Toast with Eggs, Spinach, and Tomatoes\",\"image\":\"https://spoonacular.com/recipeImages/818941-312x231.jpg\",\"imageType\":\"jpg\"},{\"id\":495111,\"title\":\"Citrus Sesame Kale\",\"image\":\"https://spoonacular.com/recipeImages/495111-312x231.jpg\",\"imageType\":\"jpg\"},{\"id\":689502,\"title\":\"Melt In Your Mouth Kale Salad\",\"image\":\"https://spoonacular.com/recipeImages/689502-312x231.jpg\",\"imageType\":\"jpg\"},{\"id\":582897,\"title\":\"Mexican Salad with Lime Dressing\",\"image\":\"https://spoonacular.com/recipeImages/582897-312x231.jpg\",\"imageType\":\"jpg\"},{\"id\":777037,\"title\":\"Weekly Meal Plan\",\"image\":\"https://spoonacular.com/recipeImages/777037-312x231.jpg\",\"imageType\":\"jpg\"},{\"id\":801710,\"title\":\"Matcha Green Tea and Pineapple Smoothie\",\"image\":\"https://spoonacular.com/recipeImages/801710-312x231.jpg\",\"imageType\":\"jpg\"},{\"id\":695486,\"title\":\"Green Smoothie\",\"image\":\"https://spoonacular.com/recipeImages/695486-312x231.jpg\",\"imageType\":\"jpg\"},{\"id\":812966,\"title\":\"Low Carb Frosty\",\"image\":\"https://spoonacular.com/recipeImages/812966-312x231.jpg\",\"imageType\":\"jpg\"},{\"id\":584495,\"title\":\"Chopped Kale Salad with Pomegranate & Avocado\",\"image\":\"https://spoonacular.com/recipeImages/584495-312x231.jpg\",\"imageType\":\"jpg\"}],\"offset\":0,\"number\":10,\"totalResults\":129178}\n"
     ]
    }
   ],
   "source": [
    "#url found from right hand panel\n",
    "url = 'https://spoonacular-recipe-food-nutrition-v1.p.rapidapi.com/recipes/complexSearch'\n",
    "\n",
    "#get inputs\n",
    "time=input('How many minutes do you have to prepare this meal? ')\n",
    "\n",
    "#set params\n",
    "params={\"maxReadyTime\":time}\n",
    "\n",
    "headers = {\n",
    "\t\"X-RapidAPI-Key\": api_key,\n",
    "\t\"X-RapidAPI-Host\": \"spoonacular-recipe-food-nutrition-v1.p.rapidapi.com\"\n",
    "}\n",
    "\n",
    "response = requests.get( url, headers=headers, params=params)\n",
    "response_json=response.json()\n",
    "print(response.text)\n"
   ]
  },
  {
   "cell_type": "code",
   "execution_count": 3,
   "id": "85d8eade",
   "metadata": {},
   "outputs": [],
   "source": [
    "# response_dict=ast.literal_eval(response.text)"
   ]
  },
  {
   "cell_type": "code",
   "execution_count": 4,
   "id": "ee054ba6",
   "metadata": {},
   "outputs": [
    {
     "name": "stdout",
     "output_type": "stream",
     "text": [
      "{\n",
      "    \"number\": 10,\n",
      "    \"offset\": 0,\n",
      "    \"results\": [\n",
      "        {\n",
      "            \"id\": 547775,\n",
      "            \"image\": \"https://spoonacular.com/recipeImages/547775-312x231.jpg\",\n",
      "            \"imageType\": \"jpg\",\n",
      "            \"title\": \"Creamy Avocado Pasta\"\n",
      "        },\n",
      "        {\n",
      "            \"id\": 818941,\n",
      "            \"image\": \"https://spoonacular.com/recipeImages/818941-312x231.jpg\",\n",
      "            \"imageType\": \"jpg\",\n",
      "            \"title\": \"Avocado Toast with Eggs, Spinach, and Tomatoes\"\n",
      "        },\n",
      "        {\n",
      "            \"id\": 495111,\n",
      "            \"image\": \"https://spoonacular.com/recipeImages/495111-312x231.jpg\",\n",
      "            \"imageType\": \"jpg\",\n",
      "            \"title\": \"Citrus Sesame Kale\"\n",
      "        },\n",
      "        {\n",
      "            \"id\": 689502,\n",
      "            \"image\": \"https://spoonacular.com/recipeImages/689502-312x231.jpg\",\n",
      "            \"imageType\": \"jpg\",\n",
      "            \"title\": \"Melt In Your Mouth Kale Salad\"\n",
      "        },\n",
      "        {\n",
      "            \"id\": 582897,\n",
      "            \"image\": \"https://spoonacular.com/recipeImages/582897-312x231.jpg\",\n",
      "            \"imageType\": \"jpg\",\n",
      "            \"title\": \"Mexican Salad with Lime Dressing\"\n",
      "        },\n",
      "        {\n",
      "            \"id\": 777037,\n",
      "            \"image\": \"https://spoonacular.com/recipeImages/777037-312x231.jpg\",\n",
      "            \"imageType\": \"jpg\",\n",
      "            \"title\": \"Weekly Meal Plan\"\n",
      "        },\n",
      "        {\n",
      "            \"id\": 801710,\n",
      "            \"image\": \"https://spoonacular.com/recipeImages/801710-312x231.jpg\",\n",
      "            \"imageType\": \"jpg\",\n",
      "            \"title\": \"Matcha Green Tea and Pineapple Smoothie\"\n",
      "        },\n",
      "        {\n",
      "            \"id\": 695486,\n",
      "            \"image\": \"https://spoonacular.com/recipeImages/695486-312x231.jpg\",\n",
      "            \"imageType\": \"jpg\",\n",
      "            \"title\": \"Green Smoothie\"\n",
      "        },\n",
      "        {\n",
      "            \"id\": 812966,\n",
      "            \"image\": \"https://spoonacular.com/recipeImages/812966-312x231.jpg\",\n",
      "            \"imageType\": \"jpg\",\n",
      "            \"title\": \"Low Carb Frosty\"\n",
      "        },\n",
      "        {\n",
      "            \"id\": 584495,\n",
      "            \"image\": \"https://spoonacular.com/recipeImages/584495-312x231.jpg\",\n",
      "            \"imageType\": \"jpg\",\n",
      "            \"title\": \"Chopped Kale Salad with Pomegranate & Avocado\"\n",
      "        }\n",
      "    ],\n",
      "    \"totalResults\": 129178\n",
      "}\n"
     ]
    }
   ],
   "source": [
    "print(json.dumps(response_json,indent=4,sort_keys=True))"
   ]
  },
  {
   "cell_type": "code",
   "execution_count": 5,
   "id": "c696972d",
   "metadata": {},
   "outputs": [
    {
     "data": {
      "text/plain": [
       "'Creamy Avocado Pasta'"
      ]
     },
     "execution_count": 5,
     "metadata": {},
     "output_type": "execute_result"
    }
   ],
   "source": [
    "response_json['results'][0]['title']\n"
   ]
  },
  {
   "cell_type": "code",
   "execution_count": 6,
   "id": "b3411407",
   "metadata": {},
   "outputs": [
    {
     "data": {
      "text/plain": [
       "'https://spoonacular.com/recipeImages/547775-312x231.jpg'"
      ]
     },
     "execution_count": 6,
     "metadata": {},
     "output_type": "execute_result"
    }
   ],
   "source": [
    "response_json['results'][0]['image']"
   ]
  },
  {
   "cell_type": "code",
   "execution_count": 20,
   "id": "22e347d9",
   "metadata": {},
   "outputs": [
    {
     "ename": "NameError",
     "evalue": "name 'time_means' is not defined",
     "output_type": "error",
     "traceback": [
      "\u001b[1;31m---------------------------------------------------------------------------\u001b[0m",
      "\u001b[1;31mNameError\u001b[0m                                 Traceback (most recent call last)",
      "Input \u001b[1;32mIn [20]\u001b[0m, in \u001b[0;36m<cell line: 10>\u001b[1;34m()\u001b[0m\n\u001b[0;32m      7\u001b[0m width \u001b[38;5;241m=\u001b[39m \u001b[38;5;241m0.35\u001b[39m  \u001b[38;5;66;03m# the width of the bars\u001b[39;00m\n\u001b[0;32m      9\u001b[0m fig, ax \u001b[38;5;241m=\u001b[39m plt\u001b[38;5;241m.\u001b[39msubplots()\n\u001b[1;32m---> 10\u001b[0m rects1 \u001b[38;5;241m=\u001b[39m ax\u001b[38;5;241m.\u001b[39mbar(x \u001b[38;5;241m-\u001b[39m width\u001b[38;5;241m/\u001b[39m\u001b[38;5;241m2\u001b[39m, \u001b[43mtime_means\u001b[49m, width, label\u001b[38;5;241m=\u001b[39m\u001b[38;5;124m'\u001b[39m\u001b[38;5;124mcuisine\u001b[39m\u001b[38;5;124m'\u001b[39m)\n\u001b[0;32m     11\u001b[0m rects2 \u001b[38;5;241m=\u001b[39m ax\u001b[38;5;241m.\u001b[39mbar(x \u001b[38;5;241m+\u001b[39m width\u001b[38;5;241m/\u001b[39m\u001b[38;5;241m2\u001b[39m, Cuisine_means, width, label\u001b[38;5;241m=\u001b[39m\u001b[38;5;124m'\u001b[39m\u001b[38;5;124mTime\u001b[39m\u001b[38;5;124m'\u001b[39m)\n\u001b[0;32m     13\u001b[0m \u001b[38;5;66;03m# Add some text for labels, title and custom x-axis tick labels, etc.\u001b[39;00m\n",
      "\u001b[1;31mNameError\u001b[0m: name 'time_means' is not defined"
     ]
    },
    {
     "data": {
      "image/png": "[encoded data removed]",
      "text/plain": [
       "<Figure size 432x288 with 1 Axes>"
      ]
     },
     "metadata": {
      "needs_background": "light"
     },
     "output_type": "display_data"
    }
   ],
   "source": [
    "labels = ['Indian', 'Chinese', 'Italian', 'Japanese', 'Vietnamese']\n",
    "\n",
    "Time_means = [0,10,15,20,30]\n",
    "\n",
    "\n",
    "x = np.arange(len(labels))  # the label locations\n",
    "width = 0.35  # the width of the bars\n",
    "\n",
    "fig, ax = plt.subplots()\n",
    "rects1 = ax.bar(x - width/2, time_means, width, label='cuisine')\n",
    "rects2 = ax.bar(x + width/2, Cuisine_means, width, label='Time')\n",
    "\n",
    "# Add some text for labels, title and custom x-axis tick labels, etc.\n",
    "ax.set_ylabel('Time')\n",
    "ax.set_title('Cusine label')\n",
    "ax.set_xticks(x, labels)\n",
    "ax.legend()\n",
    "\n",
    "ax.bar_label(rects1, padding=3)\n",
    "ax.bar_label(rects2, padding=3)\n",
    "\n",
    "fig.tight_layout()\n",
    "\n",
    "plt.show()"
   ]
  },
  {
   "cell_type": "code",
   "execution_count": null,
   "id": "8e6fe120",
   "metadata": {},
   "outputs": [],
   "source": []
  },
  {
   "cell_type": "code",
   "execution_count": null,
   "id": "8585ee33",
   "metadata": {},
   "outputs": [],
   "source": []
  },
  {
   "cell_type": "code",
   "execution_count": null,
   "id": "e39e71bc",
   "metadata": {},
   "outputs": [],
   "source": []
  },
  {
   "cell_type": "code",
   "execution_count": null,
   "id": "4d0374a7",
   "metadata": {},
   "outputs": [],
   "source": []
  },
  {
   "cell_type": "code",
   "execution_count": null,
   "id": "188940db",
   "metadata": {},
   "outputs": [],
   "source": []
  }
 ],
 "metadata": {
  "kernelspec": {
   "display_name": "Python 3 (ipykernel)",
   "language": "python",
   "name": "python3"
  },
  "language_info": {
   "codemirror_mode": {
    "name": "ipython",
    "version": 3
   },
   "file_extension": ".py",
   "mimetype": "text/x-python",
   "name": "python",
   "nbconvert_exporter": "python",
   "pygments_lexer": "ipython3",
   "version": "3.9.12"
  }
 },
 "nbformat": 4,
 "nbformat_minor": 5
}
