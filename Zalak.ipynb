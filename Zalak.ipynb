{
 "cells": [
  {
   "cell_type": "code",
   "execution_count": null,
<<<<<<< HEAD
   "id": "34169291",
=======
   "id": "66df3d53",
>>>>>>> 51f35f0e2dbc623c8693cb97de875370f355a419
   "metadata": {},
   "outputs": [],
   "source": [
    "import json\n",
    "import requests\n",
    "# import ast\n",
    "\n",
    "from keys import api_key\n",
    "\n",
    "import matplotlib.pyplot as plt\n",
    "import numpy as np\n"
   ]
  },
  {
   "cell_type": "code",
   "execution_count": null,
<<<<<<< HEAD
   "id": "577f3556",
=======
   "id": "a4a719f6",
>>>>>>> 51f35f0e2dbc623c8693cb97de875370f355a419
   "metadata": {},
   "outputs": [],
   "source": [
    "#url found from right hand panel\n",
    "url = 'https://spoonacular-recipe-food-nutrition-v1.p.rapidapi.com/recipes/complexSearch'\n",
    "#get inputs\n",
    "time=input('How many minutes do you have to prepare this meal? ')\n",
    "#set params\n",
    "params={\"maxReadyTime\":time,'addRecipeInformation':True,}\n",
    "headers = {\n",
    "\t\"X-RapidAPI-Key\": api_key,\n",
    "\t\"X-RapidAPI-Host\": \"spoonacular-recipe-food-nutrition-v1.p.rapidapi.com\"\n",
    "}\n",
    "response = requests.get( url, headers=headers, params=params)\n",
    "response_json=response.json()\n",
    "print(response.text)"
   ]
  },
  {
   "cell_type": "code",
   "execution_count": null,
<<<<<<< HEAD
   "id": "85d8eade",
=======
   "id": "f92f32fd",
>>>>>>> 51f35f0e2dbc623c8693cb97de875370f355a419
   "metadata": {},
   "outputs": [],
   "source": [
    "# response_dict=ast.literal_eval(response.text)"
   ]
  },
  {
   "cell_type": "code",
   "execution_count": null,
<<<<<<< HEAD
   "id": "ee054ba6",
=======
   "id": "aaa1c446",
>>>>>>> 51f35f0e2dbc623c8693cb97de875370f355a419
   "metadata": {},
   "outputs": [],
   "source": [
    "print(json.dumps(response_json,indent=4,sort_keys=True))"
   ]
  },
  {
   "cell_type": "code",
   "execution_count": null,
<<<<<<< HEAD
   "id": "c696972d",
=======
   "id": "6e7529e0",
>>>>>>> 51f35f0e2dbc623c8693cb97de875370f355a419
   "metadata": {},
   "outputs": [],
   "source": [
    "for i in range(5):\n",
    "    print(response_json['results'][i]['sourceUrl'])\n",
    "        "
   ]
  },
  {
   "cell_type": "code",
   "execution_count": null,
<<<<<<< HEAD
   "id": "22e347d9",
=======
   "id": "eef0520d",
   "metadata": {},
   "outputs": [],
   "source": [
    "response_json['results'][0]['image']"
   ]
  },
  {
   "cell_type": "code",
   "execution_count": null,
   "id": "4c6372c2",
>>>>>>> 51f35f0e2dbc623c8693cb97de875370f355a419
   "metadata": {},
   "outputs": [],
   "source": [
    "cuisines=['Indian','Vietnamese','Chinese','Greek','Italian','French']\n",
    "\n",
    "number_cuisine=[]\n",
    "for cuisine in cuisines:\n",
    "    params={\"cuisine\":cuisine,\n",
    "       \"maxReadyTime\":\"30\"}\n",
    "\n",
    "    headers = {\n",
    "        \"X-RapidAPI-Key\": api_key,\n",
    "        \"X-RapidAPI-Host\": \"spoonacular-recipe-food-nutrition-v1.p.rapidapi.com\"\n",
    "    }\n",
    "\n",
    "    response = requests.get(url, headers=headers, params=params)\n",
    "    response_json=response.json()\n",
    "    number_cuisine.append(response_json[\"totalResults\"])\n",
    "        "
   ]
  },
  {
   "cell_type": "code",
   "execution_count": null,
   "id": "81a1b466",
   "metadata": {},
   "outputs": [],
   "source": [
    "number_cuisine"
   ]
  },
  {
   "cell_type": "code",
   "execution_count": null,
   "id": "cc05be67",
   "metadata": {},
   "outputs": [],
   "source": [
    "plt.bar(cuisines,number_cuisine)\n",
    "plt.title(\"Number of recipes across different cuisines,30 minutes\")\n",
    "plt.xlabel('cuisines')\n",
    "plt.ylabel('number for recipes available')\n",
    "plt.savefig('output/cuisines vs 30 minutes.png')\n",
    "plt.show()"
   ]
  },
  {
   "cell_type": "code",
   "execution_count": null,
   "id": "2df73adf",
   "metadata": {},
   "outputs": [],
   "source": [
    "plt.bar(cuisines,number_cuisine)\n",
    "plt.title(\"Number of recipes across different cuisines,60 minutes\")\n",
    "plt.xlabel('cuisines')\n",
    "plt.ylabel('number for recipes available')\n",
    "plt.savefig('output/cuisines vs 60 minutes.png')\n",
    "plt.show()"
   ]
  },
  {
   "cell_type": "code",
   "execution_count": null,
   "id": "2468953a",
   "metadata": {},
   "outputs": [],
   "source": []
  },
  {
   "cell_type": "code",
   "execution_count": null,
   "id": "ae3af653",
   "metadata": {},
   "outputs": [],
   "source": []
  }
 ],
 "metadata": {
  "kernelspec": {
   "display_name": "Python 3 (ipykernel)",
   "language": "python",
   "name": "python3"
  },
  "language_info": {
   "codemirror_mode": {
    "name": "ipython",
    "version": 3
   },
   "file_extension": ".py",
   "mimetype": "text/x-python",
   "name": "python",
   "nbconvert_exporter": "python",
   "pygments_lexer": "ipython3",
   "version": "3.7.7"
  }
 },
 "nbformat": 4,
 "nbformat_minor": 5
}
