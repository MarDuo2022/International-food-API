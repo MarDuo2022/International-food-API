{
 "cells": [
  {
   "cell_type": "code",
   "execution_count": null,
   "id": "66df3d53",
   "metadata": {},
   "outputs": [],
   "source": [
    "import json\n",
    "import requests\n",
    "# import ast\n",
    "\n",
    "from keys import api_key\n",
    "\n",
    "import matplotlib.pyplot as plt\n",
    "import numpy as np\n"
   ]
  },
  {
   "cell_type": "code",
   "execution_count": null,
   "id": "a4a719f6",
   "metadata": {},
   "outputs": [],
   "source": [
    "#url found from right hand panel\n",
    "url = 'https://spoonacular-recipe-food-nutrition-v1.p.rapidapi.com/recipes/complexSearch'\n",
    "\n",
    "#get inputs\n",
    "time=input('How many minutes do you have to prepare this meal? ')\n",
    "\n",
    "#set params\n",
    "params={\"maxReadyTime\":time}\n",
    "\n",
    "headers = {\n",
    "\t\"X-RapidAPI-Key\": api_key,\n",
    "\t\"X-RapidAPI-Host\": \"spoonacular-recipe-food-nutrition-v1.p.rapidapi.com\"\n",
    "}\n",
    "\n",
    "response = requests.get( url, headers=headers, params=params)\n",
    "response_json=response.json()\n",
    "print(response.text)\n"
   ]
  },
  {
   "cell_type": "code",
   "execution_count": null,
   "id": "f92f32fd",
   "metadata": {},
   "outputs": [],
   "source": [
    "# response_dict=ast.literal_eval(response.text)"
   ]
  },
  {
   "cell_type": "code",
   "execution_count": null,
   "id": "aaa1c446",
   "metadata": {},
   "outputs": [],
   "source": [
    "print(json.dumps(response_json,indent=4,sort_keys=True))"
   ]
  },
  {
   "cell_type": "code",
   "execution_count": null,
   "id": "6e7529e0",
   "metadata": {},
   "outputs": [],
   "source": [
    "response_json['results'][0]['title']\n"
   ]
  },
  {
   "cell_type": "code",
   "execution_count": null,
   "id": "eef0520d",
   "metadata": {},
   "outputs": [],
   "source": [
    "response_json['results'][0]['image']"
   ]
  },
  {
   "cell_type": "code",
   "execution_count": null,
   "id": "4c6372c2",
   "metadata": {},
   "outputs": [],
   "source": [
    "labels = ['Indian', 'Chinese', 'Italian', 'Japanese', 'Vietnamese']\n",
    "\n",
    "Time_means = [0,10,15,20,30]\n",
    "\n",
    "\n",
    "x = np.arange(len(labels))  # the label locations\n",
    "width = 0.35  # the width of the bars\n",
    "\n",
    "fig, ax = plt.subplots()\n",
    "rects1 = ax.bar(x - width/2, time_means, width, label='cuisine')\n",
    "rects2 = ax.bar(x + width/2, Cuisine_means, width, label='Time')\n",
    "\n",
    "# Add some text for labels, title and custom x-axis tick labels, etc.\n",
    "ax.set_ylabel('Time')\n",
    "ax.set_title('Cusine label')\n",
    "ax.set_xticks(x, labels)\n",
    "ax.legend()\n",
    "\n",
    "ax.bar_label(rects1, padding=3)\n",
    "ax.bar_label(rects2, padding=3)\n",
    "\n",
    "fig.tight_layout()\n",
    "\n",
    "plt.show()"
   ]
  },
  {
   "cell_type": "code",
   "execution_count": null,
   "id": "81a1b466",
   "metadata": {},
   "outputs": [],
   "source": []
  },
  {
   "cell_type": "code",
   "execution_count": null,
   "id": "cc05be67",
   "metadata": {},
   "outputs": [],
   "source": []
  },
  {
   "cell_type": "code",
   "execution_count": null,
   "id": "2df73adf",
   "metadata": {},
   "outputs": [],
   "source": []
  },
  {
   "cell_type": "code",
   "execution_count": null,
   "id": "2468953a",
   "metadata": {},
   "outputs": [],
   "source": []
  },
  {
   "cell_type": "code",
   "execution_count": null,
   "id": "ae3af653",
   "metadata": {},
   "outputs": [],
   "source": []
  }
 ],
 "metadata": {
  "kernelspec": {
   "display_name": "Python 3 (ipykernel)",
   "language": "python",
   "name": "python3"
  },
  "language_info": {
   "codemirror_mode": {
    "name": "ipython",
    "version": 3
   },
   "file_extension": ".py",
   "mimetype": "text/x-python",
   "name": "python",
   "nbconvert_exporter": "python",
   "pygments_lexer": "ipython3",
   "version": "3.7.7"
  }
 },
 "nbformat": 4,
 "nbformat_minor": 5
}
