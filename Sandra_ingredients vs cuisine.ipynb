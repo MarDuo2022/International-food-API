{
 "cells": [
  {
   "cell_type": "code",
   "execution_count": null,
   "id": "76ac1dc6",
   "metadata": {},
   "outputs": [],
   "source": [
    "import json\n",
    "import requests\n",
    "from keys import api_key\n",
    "\n",
    "import matplotlib.pyplot as plt\n",
    "import numpy as np"
   ]
  },
  {
   "cell_type": "code",
   "execution_count": null,
   "id": "4c3d02ec",
   "metadata": {},
   "outputs": [],
   "source": [
    "#url found from right hand panel\n",
    "url = 'https://spoonacular-recipe-food-nutrition-v1.p.rapidapi.com/recipes/complexSearch'\n",
    "ingres=input('Which ingredients do you have in your fridge? ')\n",
    "#set params\n",
    "params={\"cuisine\":\"Indian\",\n",
    "       \"instructionsRequired\":False,\n",
    "       'addRecipeInformation':True,\n",
    "       'includeIngredients':ingres}\n",
    "headers = {\n",
    "\t\"X-RapidAPI-Key\": api_key,\n",
    "\t\"X-RapidAPI-Host\": \"spoonacular-recipe-food-nutrition-v1.p.rapidapi.com\"}\n",
    "response = requests.get( url, headers=headers, params=params)\n",
    "response_json=response.json()\n",
    "print(response.text)\n"
   ]
  },
  {
   "cell_type": "code",
   "execution_count": null,
   "id": "f4ebe45f",
   "metadata": {},
   "outputs": [],
   "source": [
    "print(json.dumps(response_json,indent=4,sort_keys=True))"
   ]
  },
  {
   "cell_type": "code",
   "execution_count": null,
   "id": "164185c5",
   "metadata": {},
   "outputs": [],
   "source": [
    "for i in range(5):\n",
    "    print(response_json['results'][i]['sourceUrl'])"
   ]
  },
  {
   "cell_type": "code",
   "execution_count": null,
   "id": "aa5f3ceb",
   "metadata": {},
   "outputs": [],
   "source": [
    "cuisines=['Indian','Vietnamese','Chinese','Greek','Italian','French']\n",
    "number_cuisine=[]\n",
    "for cuisine in cuisines:\n",
    "    params={\"cuisine\":cuisine,\n",
    "       \"includeIngredients\":\"tomato,onion,carrot\"}\n",
    "    headers = {\n",
    "        \"X-RapidAPI-Key\": api_key,\n",
    "        \"X-RapidAPI-Host\": \"spoonacular-recipe-food-nutrition-v1.p.rapidapi.com\"\n",
    "    }\n",
    "    response = requests.get(url, headers=headers, params=params)\n",
    "    response_json=response.json()\n",
    "    number_cuisine.append(response_json[\"totalResults\"])"
   ]
  },
  {
   "cell_type": "code",
   "execution_count": null,
   "id": "79a116bc",
   "metadata": {},
   "outputs": [],
   "source": [
    "number_cuisine"
   ]
  },
  {
   "cell_type": "code",
   "execution_count": null,
   "id": "ef40352f",
   "metadata": {},
   "outputs": [],
   "source": [
    "plt.bar(cuisines,number_cuisine)\n",
    "plt.title(\"Number of recipes across different cuisines that include tomato,onion,carrot \")\n",
    "plt.xlabel('Cuisine')\n",
    "plt.ylabel('Number of recipes available')\n",
    "plt.savefig('output/cuisines vs includeIngredients.png')\n",
    "plt.show()"
   ]
  },
  {
   "cell_type": "code",
   "execution_count": null,
   "id": "3f05a1e1",
   "metadata": {},
   "outputs": [],
   "source": []
  }
 ],
 "metadata": {
  "kernelspec": {
   "display_name": "Python 3 (ipykernel)",
   "language": "python",
   "name": "python3"
  },
  "language_info": {
   "codemirror_mode": {
    "name": "ipython",
    "version": 3
   },
   "file_extension": ".py",
   "mimetype": "text/x-python",
   "name": "python",
   "nbconvert_exporter": "python",
   "pygments_lexer": "ipython3",
   "version": "3.7.7"
  }
 },
 "nbformat": 4,
 "nbformat_minor": 5
}
