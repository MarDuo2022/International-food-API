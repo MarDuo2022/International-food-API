{
 "cells": [
  {
   "cell_type": "code",
   "execution_count": 1,
   "id": "b3e1054b",
   "metadata": {},
   "outputs": [],
   "source": [
    "import json\n",
    "import requests"
   ]
  },
  {
   "cell_type": "code",
   "execution_count": 3,
   "id": "956ae82b",
   "metadata": {},
   "outputs": [
    {
     "name": "stdout",
     "output_type": "stream",
     "text": [
      "How many minutes do you have to prepare this meal?20\n"
     ]
    }
   ],
   "source": [
    "#url found from right hand panel\n",
    "url = 'https://spoonacular-recipe-food-nutrition-v1.p.rapidapi.com/recipes/complexSearch'\n",
    "\n",
    "#get inputs\n",
    "time=input('How many minutes do you have to prepare this meal?')\n",
    "\n",
    "#set params\n",
    "params={\"format\":\"json\"}\n",
    "params['maxReadyTime']=time\n"
   ]
  },
  {
   "cell_type": "code",
   "execution_count": 6,
   "id": "88998abd",
   "metadata": {},
   "outputs": [
    {
     "ename": "TypeError",
     "evalue": "Object of type method is not JSON serializable",
     "output_type": "error",
     "traceback": [
      "\u001b[1;31m---------------------------------------------------------------------------\u001b[0m",
      "\u001b[1;31mTypeError\u001b[0m                                 Traceback (most recent call last)",
      "\u001b[1;32m~\\AppData\\Local\\Temp\\ipykernel_30444\\1076772476.py\u001b[0m in \u001b[0;36m<module>\u001b[1;34m\u001b[0m\n\u001b[0;32m      1\u001b[0m \u001b[0mresponse\u001b[0m \u001b[1;33m=\u001b[0m \u001b[0mrequests\u001b[0m\u001b[1;33m.\u001b[0m\u001b[0mget\u001b[0m\u001b[1;33m(\u001b[0m\u001b[0murl\u001b[0m\u001b[1;33m,\u001b[0m \u001b[0mparams\u001b[0m\u001b[1;33m=\u001b[0m\u001b[0mparams\u001b[0m\u001b[1;33m)\u001b[0m\u001b[1;33m.\u001b[0m\u001b[0mjson\u001b[0m\u001b[1;33m\u001b[0m\u001b[1;33m\u001b[0m\u001b[0m\n\u001b[1;32m----> 2\u001b[1;33m \u001b[0mprint\u001b[0m\u001b[1;33m(\u001b[0m\u001b[0mjson\u001b[0m\u001b[1;33m.\u001b[0m\u001b[0mdumps\u001b[0m\u001b[1;33m(\u001b[0m\u001b[0mresponse\u001b[0m\u001b[1;33m,\u001b[0m\u001b[0mindent\u001b[0m\u001b[1;33m=\u001b[0m\u001b[1;36m4\u001b[0m\u001b[1;33m,\u001b[0m\u001b[0msort_keys\u001b[0m\u001b[1;33m=\u001b[0m\u001b[1;32mTrue\u001b[0m\u001b[1;33m)\u001b[0m\u001b[1;33m)\u001b[0m\u001b[1;33m\u001b[0m\u001b[1;33m\u001b[0m\u001b[0m\n\u001b[0m",
      "\u001b[1;32m~\\anaconda3\\envs\\PythonData\\lib\\json\\__init__.py\u001b[0m in \u001b[0;36mdumps\u001b[1;34m(obj, skipkeys, ensure_ascii, check_circular, allow_nan, cls, indent, separators, default, sort_keys, **kw)\u001b[0m\n\u001b[0;32m    236\u001b[0m         \u001b[0mcheck_circular\u001b[0m\u001b[1;33m=\u001b[0m\u001b[0mcheck_circular\u001b[0m\u001b[1;33m,\u001b[0m \u001b[0mallow_nan\u001b[0m\u001b[1;33m=\u001b[0m\u001b[0mallow_nan\u001b[0m\u001b[1;33m,\u001b[0m \u001b[0mindent\u001b[0m\u001b[1;33m=\u001b[0m\u001b[0mindent\u001b[0m\u001b[1;33m,\u001b[0m\u001b[1;33m\u001b[0m\u001b[1;33m\u001b[0m\u001b[0m\n\u001b[0;32m    237\u001b[0m         \u001b[0mseparators\u001b[0m\u001b[1;33m=\u001b[0m\u001b[0mseparators\u001b[0m\u001b[1;33m,\u001b[0m \u001b[0mdefault\u001b[0m\u001b[1;33m=\u001b[0m\u001b[0mdefault\u001b[0m\u001b[1;33m,\u001b[0m \u001b[0msort_keys\u001b[0m\u001b[1;33m=\u001b[0m\u001b[0msort_keys\u001b[0m\u001b[1;33m,\u001b[0m\u001b[1;33m\u001b[0m\u001b[1;33m\u001b[0m\u001b[0m\n\u001b[1;32m--> 238\u001b[1;33m         **kw).encode(obj)\n\u001b[0m\u001b[0;32m    239\u001b[0m \u001b[1;33m\u001b[0m\u001b[0m\n\u001b[0;32m    240\u001b[0m \u001b[1;33m\u001b[0m\u001b[0m\n",
      "\u001b[1;32m~\\anaconda3\\envs\\PythonData\\lib\\json\\encoder.py\u001b[0m in \u001b[0;36mencode\u001b[1;34m(self, o)\u001b[0m\n\u001b[0;32m    199\u001b[0m         \u001b[0mchunks\u001b[0m \u001b[1;33m=\u001b[0m \u001b[0mself\u001b[0m\u001b[1;33m.\u001b[0m\u001b[0miterencode\u001b[0m\u001b[1;33m(\u001b[0m\u001b[0mo\u001b[0m\u001b[1;33m,\u001b[0m \u001b[0m_one_shot\u001b[0m\u001b[1;33m=\u001b[0m\u001b[1;32mTrue\u001b[0m\u001b[1;33m)\u001b[0m\u001b[1;33m\u001b[0m\u001b[1;33m\u001b[0m\u001b[0m\n\u001b[0;32m    200\u001b[0m         \u001b[1;32mif\u001b[0m \u001b[1;32mnot\u001b[0m \u001b[0misinstance\u001b[0m\u001b[1;33m(\u001b[0m\u001b[0mchunks\u001b[0m\u001b[1;33m,\u001b[0m \u001b[1;33m(\u001b[0m\u001b[0mlist\u001b[0m\u001b[1;33m,\u001b[0m \u001b[0mtuple\u001b[0m\u001b[1;33m)\u001b[0m\u001b[1;33m)\u001b[0m\u001b[1;33m:\u001b[0m\u001b[1;33m\u001b[0m\u001b[1;33m\u001b[0m\u001b[0m\n\u001b[1;32m--> 201\u001b[1;33m             \u001b[0mchunks\u001b[0m \u001b[1;33m=\u001b[0m \u001b[0mlist\u001b[0m\u001b[1;33m(\u001b[0m\u001b[0mchunks\u001b[0m\u001b[1;33m)\u001b[0m\u001b[1;33m\u001b[0m\u001b[1;33m\u001b[0m\u001b[0m\n\u001b[0m\u001b[0;32m    202\u001b[0m         \u001b[1;32mreturn\u001b[0m \u001b[1;34m''\u001b[0m\u001b[1;33m.\u001b[0m\u001b[0mjoin\u001b[0m\u001b[1;33m(\u001b[0m\u001b[0mchunks\u001b[0m\u001b[1;33m)\u001b[0m\u001b[1;33m\u001b[0m\u001b[1;33m\u001b[0m\u001b[0m\n\u001b[0;32m    203\u001b[0m \u001b[1;33m\u001b[0m\u001b[0m\n",
      "\u001b[1;32m~\\anaconda3\\envs\\PythonData\\lib\\json\\encoder.py\u001b[0m in \u001b[0;36m_iterencode\u001b[1;34m(o, _current_indent_level)\u001b[0m\n\u001b[0;32m    436\u001b[0m                     \u001b[1;32mraise\u001b[0m \u001b[0mValueError\u001b[0m\u001b[1;33m(\u001b[0m\u001b[1;34m\"Circular reference detected\"\u001b[0m\u001b[1;33m)\u001b[0m\u001b[1;33m\u001b[0m\u001b[1;33m\u001b[0m\u001b[0m\n\u001b[0;32m    437\u001b[0m                 \u001b[0mmarkers\u001b[0m\u001b[1;33m[\u001b[0m\u001b[0mmarkerid\u001b[0m\u001b[1;33m]\u001b[0m \u001b[1;33m=\u001b[0m \u001b[0mo\u001b[0m\u001b[1;33m\u001b[0m\u001b[1;33m\u001b[0m\u001b[0m\n\u001b[1;32m--> 438\u001b[1;33m             \u001b[0mo\u001b[0m \u001b[1;33m=\u001b[0m \u001b[0m_default\u001b[0m\u001b[1;33m(\u001b[0m\u001b[0mo\u001b[0m\u001b[1;33m)\u001b[0m\u001b[1;33m\u001b[0m\u001b[1;33m\u001b[0m\u001b[0m\n\u001b[0m\u001b[0;32m    439\u001b[0m             \u001b[1;32myield\u001b[0m \u001b[1;32mfrom\u001b[0m \u001b[0m_iterencode\u001b[0m\u001b[1;33m(\u001b[0m\u001b[0mo\u001b[0m\u001b[1;33m,\u001b[0m \u001b[0m_current_indent_level\u001b[0m\u001b[1;33m)\u001b[0m\u001b[1;33m\u001b[0m\u001b[1;33m\u001b[0m\u001b[0m\n\u001b[0;32m    440\u001b[0m             \u001b[1;32mif\u001b[0m \u001b[0mmarkers\u001b[0m \u001b[1;32mis\u001b[0m \u001b[1;32mnot\u001b[0m \u001b[1;32mNone\u001b[0m\u001b[1;33m:\u001b[0m\u001b[1;33m\u001b[0m\u001b[1;33m\u001b[0m\u001b[0m\n",
      "\u001b[1;32m~\\anaconda3\\envs\\PythonData\\lib\\json\\encoder.py\u001b[0m in \u001b[0;36mdefault\u001b[1;34m(self, o)\u001b[0m\n\u001b[0;32m    177\u001b[0m \u001b[1;33m\u001b[0m\u001b[0m\n\u001b[0;32m    178\u001b[0m         \"\"\"\n\u001b[1;32m--> 179\u001b[1;33m         raise TypeError(f'Object of type {o.__class__.__name__} '\n\u001b[0m\u001b[0;32m    180\u001b[0m                         f'is not JSON serializable')\n\u001b[0;32m    181\u001b[0m \u001b[1;33m\u001b[0m\u001b[0m\n",
      "\u001b[1;31mTypeError\u001b[0m: Object of type method is not JSON serializable"
     ]
    }
   ],
   "source": [
    "response = requests.get(url, params=params).json\n",
    "print(json.dumps(response,indent=4,sort_keys=True))"
   ]
  },
  {
   "cell_type": "code",
   "execution_count": null,
   "id": "b3ed42b4",
   "metadata": {},
   "outputs": [],
   "source": [
    "const axios = require(\"axios\");\n",
    "\n",
    "const options = {\n",
    "  method: 'GET',\n",
    "  url: 'https://spoonacular-recipe-food-nutrition-v1.p.rapidapi.com/recipes/complexSearch',\n",
    "  params: {\n",
    "    query: 'pasta',\n",
    "    cuisine: 'italian',\n",
    "    excludeCuisine: 'greek',\n",
    "    diet: 'vegetarian',\n",
    "    intolerances: 'gluten',\n",
    "    equipment: 'pan',\n",
    "    includeIngredients: 'tomato,cheese',\n",
    "    excludeIngredients: 'eggs',\n",
    "    type: 'main course',\n",
    "    instructionsRequired: 'true',\n",
    "    fillIngredients: 'false',\n",
    "    addRecipeInformation: 'false',\n",
    "    titleMatch: 'Crock Pot',\n",
    "    maxReadyTime: '20',\n",
    "    ignorePantry: 'true',\n",
    "    sort: 'calories',\n",
    "    sortDirection: 'asc',\n",
    "    minCarbs: '10',\n",
    "    maxCarbs: '100',\n",
    "    minProtein: '10',\n",
    "    maxProtein: '100',\n",
    "    minCalories: '50',\n",
    "    maxCalories: '800',\n",
    "    minFat: '10',\n",
    "    maxFat: '100',\n",
    "    minAlcohol: '0',\n",
    "    maxAlcohol: '100',\n",
    "    minCaffeine: '0',\n",
    "    maxCaffeine: '100',\n",
    "    minCopper: '0',\n",
    "    maxCopper: '100',\n",
    "    minCalcium: '0',\n",
    "    maxCalcium: '100',\n",
    "    minCholine: '0',\n",
    "    maxCholine: '100',\n",
    "    minCholesterol: '0',\n",
    "    maxCholesterol: '100',\n",
    "    minFluoride: '0',\n",
    "    maxFluoride: '100',\n",
    "    minSaturatedFat: '0',\n",
    "    maxSaturatedFat: '100',\n",
    "    minVitaminA: '0',\n",
    "    maxVitaminA: '100',\n",
    "    minVitaminC: '0',\n",
    "    maxVitaminC: '100',\n",
    "    minVitaminD: '0',\n",
    "    maxVitaminD: '100',\n",
    "    minVitaminE: '0',\n",
    "    maxVitaminE: '100',\n",
    "    minVitaminK: '0',\n",
    "    maxVitaminK: '100',\n",
    "    minVitaminB1: '0',\n",
    "    maxVitaminB1: '100',\n",
    "    minVitaminB2: '0',\n",
    "    maxVitaminB2: '100',\n",
    "    minVitaminB5: '0',\n",
    "    maxVitaminB5: '100',\n",
    "    minVitaminB3: '0',\n",
    "    maxVitaminB3: '100',\n",
    "    minVitaminB6: '0',\n",
    "    maxVitaminB6: '100',\n",
    "    minVitaminB12: '0',\n",
    "    maxVitaminB12: '100',\n",
    "    minFiber: '0',\n",
    "    maxFiber: '100',\n",
    "    minFolate: '0',\n",
    "    maxFolate: '100',\n",
    "    minFolicAcid: '0',\n",
    "    maxFolicAcid: '100',\n",
    "    minIodine: '0',\n",
    "    maxIodine: '100',\n",
    "    minIron: '0',\n",
    "    maxIron: '100',\n",
    "    minMagnesium: '0',\n",
    "    maxMagnesium: '100',\n",
    "    minManganese: '0',\n",
    "    maxManganese: '100',\n",
    "    minPhosphorus: '0',\n",
    "    maxPhosphorus: '100',\n",
    "    minPotassium: '0',\n",
    "    maxPotassium: '100',\n",
    "    minSelenium: '0',\n",
    "    maxSelenium: '100',\n",
    "    minSodium: '0',\n",
    "    maxSodium: '100',\n",
    "    minSugar: '0',\n",
    "    maxSugar: '100',\n",
    "    minZinc: '0',\n",
    "    maxZinc: '100',\n",
    "    offset: '0',\n",
    "    number: '10',\n",
    "    limitLicense: 'false',\n",
    "    ranking: '2'\n",
    "  },\n",
    "  headers: {\n",
    "    'X-RapidAPI-Key': 'SIGN-UP-FOR-KEY',\n",
    "    'X-RapidAPI-Host': 'spoonacular-recipe-food-nutrition-v1.p.rapidapi.com'\n",
    "  }\n",
    "};\n",
    "\n",
    "axios.request(options).then(function (response) {\n",
    "\tconsole.log(response.data);\n",
    "}).catch(function (error) {\n",
    "\tconsole.error(error);\n",
    "});"
   ]
  }
 ],
 "metadata": {
  "kernelspec": {
   "display_name": "Python 3 (ipykernel)",
   "language": "python",
   "name": "python3"
  },
  "language_info": {
   "codemirror_mode": {
    "name": "ipython",
    "version": 3
   },
   "file_extension": ".py",
   "mimetype": "text/x-python",
   "name": "python",
   "nbconvert_exporter": "python",
   "pygments_lexer": "ipython3",
   "version": "3.7.7"
  }
 },
 "nbformat": 4,
 "nbformat_minor": 5
}
