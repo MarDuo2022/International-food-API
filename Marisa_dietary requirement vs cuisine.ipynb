{
 "cells": [
  {
   "cell_type": "code",
   "execution_count": null,
   "id": "17dffd20",
   "metadata": {},
   "outputs": [],
   "source": [
    "import json\n",
    "import requests\n",
    "import matplotlib.pyplot as plt\n",
    "# import pandas as pd\n",
    "\n",
    "from keys import api_key"
   ]
  },
  {
   "cell_type": "code",
   "execution_count": null,
   "id": "b090d1aa",
   "metadata": {},
   "outputs": [],
   "source": [
    "#url found from right hand panel\n",
    "url = 'https://spoonacular-recipe-food-nutrition-v1.p.rapidapi.com/recipes/complexSearch'\n",
    "\n",
    "#comparing what cuisine\n",
    "cuisines=['Indian','Vietnamese','Chinese','Greek','Italian','French']\n",
    "number_cuisine_vegetarian=[]\n",
    "number_cuisine_vegan=[]"
   ]
  },
  {
   "cell_type": "code",
   "execution_count": null,
   "id": "a07af639",
   "metadata": {},
   "outputs": [],
   "source": [
    "#VEGETARIAN\n",
    "for cuisine in cuisines:\n",
    "    params={\"cuisine\":cuisine,\n",
    "       \"diet\":\"vegetarian\"}\n",
    "\n",
    "    headers = {\n",
    "        \"X-RapidAPI-Key\": api_key,\n",
    "        \"X-RapidAPI-Host\": \"spoonacular-recipe-food-nutrition-v1.p.rapidapi.com\"\n",
    "    }\n",
    "\n",
    "    response = requests.get(url, headers=headers, params=params)\n",
    "    response_json=response.json()\n",
    "    number_cuisine_vegetarian.append(response_json[\"totalResults\"])"
   ]
  },
  {
   "cell_type": "code",
   "execution_count": null,
   "id": "18c7b765",
   "metadata": {},
   "outputs": [],
   "source": [
    "plt.bar(cuisines,number_cuisine_vegetarian)\n",
    "plt.title(\"Number of recipes across different cuisines for Vegetarian diet\")\n",
    "plt.xlabel('Cuisine')\n",
    "plt.ylabel('Number of recipes available')\n",
    "plt.savefig('output/cuisines vs Vegetarian diet.png')\n",
    "plt.show()"
   ]
  },
  {
   "cell_type": "code",
   "execution_count": null,
   "id": "ad670f7c",
   "metadata": {},
   "outputs": [],
   "source": [
    "#VEGAN\n",
    "for cuisine in cuisines:\n",
    "    params={\"cuisine\":cuisine,\n",
    "       \"diet\":\"vegan\"}\n",
    "\n",
    "    headers = {\n",
    "        \"X-RapidAPI-Key\": api_key,\n",
    "        \"X-RapidAPI-Host\": \"spoonacular-recipe-food-nutrition-v1.p.rapidapi.com\"\n",
    "    }\n",
    "\n",
    "    response = requests.get(url, headers=headers, params=params)\n",
    "    response_json=response.json()\n",
    "    number_cuisine_vegan.append(response_json[\"totalResults\"])"
   ]
  },
  {
   "cell_type": "code",
   "execution_count": null,
   "id": "59c3965b",
   "metadata": {},
   "outputs": [],
   "source": [
    "plt.bar(cuisines,number_cuisine_vegan)\n",
    "plt.title(\"Number of recipes across different cuisines for Vegan diet\")\n",
    "plt.xlabel('Cuisine')\n",
    "plt.ylabel('Number of recipes available')\n",
    "plt.savefig('output/cuisines vs Vegan diet.png')\n",
    "plt.show()"
   ]
  },
  {
   "cell_type": "code",
   "execution_count": null,
   "id": "ea722c81",
   "metadata": {},
   "outputs": [],
   "source": []
  }
 ],
 "metadata": {
  "kernelspec": {
   "display_name": "Python [conda env:PythonData] *",
   "language": "python",
   "name": "conda-env-PythonData-py"
  },
  "language_info": {
   "codemirror_mode": {
    "name": "ipython",
    "version": 3
   },
   "file_extension": ".py",
   "mimetype": "text/x-python",
   "name": "python",
   "nbconvert_exporter": "python",
   "pygments_lexer": "ipython3",
   "version": "3.7.7"
  }
 },
 "nbformat": 4,
 "nbformat_minor": 5
}
