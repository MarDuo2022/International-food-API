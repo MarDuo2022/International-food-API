{
 "cells": [
  {
   "cell_type": "code",
   "execution_count": null,
   "id": "40ce0e65",
   "metadata": {},
   "outputs": [],
   "source": [
    "import json\n",
    "import requests\n",
    "import matplotlib.pyplot as plt\n",
    "# import pandas as pd\n",
    "\n",
    "from keys import api_key"
   ]
  },
  {
   "cell_type": "code",
   "execution_count": null,
   "id": "fe94021c",
   "metadata": {},
   "outputs": [],
   "source": [
    "#url found from right hand panel\n",
    "url = 'https://spoonacular-recipe-food-nutrition-v1.p.rapidapi.com/recipes/complexSearch'\n",
    "\n",
    "#comparing what cuisine\n",
    "cuisines=['Indian','Vietnamese','Chinese','Greek','Italian','French']\n",
    "number_cuisine_vegetarian=[]\n",
    "number_cuisine_vegan=[]"
   ]
  },
  {
   "cell_type": "code",
   "execution_count": null,
   "id": "174f3f97",
   "metadata": {},
   "outputs": [],
   "source": [
    "#VEGETARIAN\n",
    "for cuisine in cuisines:\n",
    "    params={\"cuisine\":cuisine,\n",
    "       \"diet\":\"vegetarian\"}\n",
    "\n",
    "    headers = {\n",
    "        \"X-RapidAPI-Key\": api_key,\n",
    "        \"X-RapidAPI-Host\": \"spoonacular-recipe-food-nutrition-v1.p.rapidapi.com\"\n",
    "    }\n",
    "\n",
    "    response = requests.get(url, headers=headers, params=params)\n",
    "    response_json=response.json()\n",
    "    number_cuisine_vegetarian.append(response_json[\"totalResults\"])"
   ]
  },
  {
   "cell_type": "code",
   "execution_count": null,
   "id": "7a03527e",
   "metadata": {},
   "outputs": [],
   "source": [
    "plt.pie(number_cuisine_vegetarian,labels=cuisines,startangle=45,rotatelabels=True)\n",
    "plt.title(\"Number of recipes across different cuisines for Vegetarian diet\\n\\n\\n\")\n",
    "plt.tight_layout\n",
    "plt.savefig('output/cuisines vs Vegetarian diet_Pie.png')\n",
    "plt.show()"
   ]
  },
  {
   "cell_type": "code",
   "execution_count": null,
   "id": "edc3dfdb",
   "metadata": {},
   "outputs": [],
   "source": [
    "plt.bar(cuisines,number_cuisine_vegetarian)\n",
    "plt.title(\"Number of recipes across different cuisines for Vegetarian diet\")\n",
    "plt.xlabel('Cuisine')\n",
    "plt.ylabel('Number of recipes available')\n",
    "plt.savefig('output/cuisines vs Vegetarian diet.png')\n",
    "plt.show()"
   ]
  },
  {
   "cell_type": "code",
   "execution_count": null,
   "id": "17611f8f",
   "metadata": {},
   "outputs": [],
   "source": [
    "#VEGAN\n",
    "for cuisine in cuisines:\n",
    "    params={\"cuisine\":cuisine,\n",
    "       \"diet\":\"vegan\"}\n",
    "\n",
    "    headers = {\n",
    "        \"X-RapidAPI-Key\": api_key,\n",
    "        \"X-RapidAPI-Host\": \"spoonacular-recipe-food-nutrition-v1.p.rapidapi.com\"\n",
    "    }\n",
    "\n",
    "    response = requests.get(url, headers=headers, params=params)\n",
    "    response_json=response.json()\n",
    "    number_cuisine_vegan.append(response_json[\"totalResults\"])"
   ]
  },
  {
   "cell_type": "code",
   "execution_count": null,
   "id": "60074b3f",
   "metadata": {},
   "outputs": [],
   "source": [
    "plt.bar(cuisines,number_cuisine_vegan)\n",
    "plt.title(\"Number of recipes across different cuisines for Vegan diet\")\n",
    "plt.xlabel('Cuisine')\n",
    "plt.ylabel('Number of recipes available')\n",
    "plt.savefig('output/cuisines vs Vegan diet.png')\n",
    "plt.show()"
   ]
  },
  {
   "cell_type": "code",
   "execution_count": null,
   "id": "e3555b33",
   "metadata": {},
   "outputs": [],
   "source": [
    "plt.pie(number_cuisine_vegan,labels=cuisines,startangle=0,rotatelabels=True)\n",
    "plt.title(\"Number of recipes across different cuisines for Vegetarian diet\\n\\n\")\n",
    "plt.tight_layout\n",
    "plt.savefig('output/cuisines vs Vegan diet_Pie.png')\n",
    "plt.show()"
   ]
  },
  {
   "cell_type": "code",
   "execution_count": null,
   "id": "7b4a5934",
   "metadata": {},
   "outputs": [],
   "source": []
  }
 ],
 "metadata": {
  "kernelspec": {
   "display_name": "Python [conda env:PythonData]",
   "language": "python",
   "name": "conda-env-PythonData-py"
  },
  "language_info": {
   "codemirror_mode": {
    "name": "ipython",
    "version": 3
   },
   "file_extension": ".py",
   "mimetype": "text/x-python",
   "name": "python",
   "nbconvert_exporter": "python",
   "pygments_lexer": "ipython3",
   "version": "3.7.7"
  }
 },
 "nbformat": 4,
 "nbformat_minor": 5
}
