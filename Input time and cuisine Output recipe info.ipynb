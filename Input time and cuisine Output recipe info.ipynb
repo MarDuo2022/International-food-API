{
 "cells": [
  {
   "cell_type": "code",
   "execution_count": 8,
   "id": "95c13581",
   "metadata": {},
   "outputs": [],
   "source": [
    "import json\n",
    "import requests\n",
    "# import pandas as pd\n",
    "# import ast\n",
    "\n",
    "from keys import api_key"
   ]
  },
  {
   "cell_type": "code",
   "execution_count": 13,
   "id": "34c833aa",
   "metadata": {},
   "outputs": [
    {
     "name": "stdout",
     "output_type": "stream",
     "text": [
      "Which ingredients do you have in your fridge? onion\n",
      "{\"results\":[{\"id\":488307,\"title\":\"kachumber salad or kuchumber salad – indian vegetable salad\",\"image\":\"https://spoonacular.com/recipeImages/488307-312x231.jpg\",\"imageType\":\"jpg\"},{\"id\":627789,\"title\":\"Butternut Squash & Chickpea Coconut Curry (Crock Pot )\",\"image\":\"https://spoonacular.com/recipeImages/627789-312x231.jpg\",\"imageType\":\"jpg\"},{\"id\":616234,\"title\":\"Curry Red Lentil Stew with Kale & Chickpeas\",\"image\":\"https://spoonacular.com/recipeImages/616234-312x231.jpg\",\"imageType\":\"jpg\"},{\"id\":488136,\"title\":\"poori bhaji or batata bhaji – maharashtrian poori bhaji\",\"image\":\"https://spoonacular.com/recipeImages/488136-312x231.jpg\",\"imageType\":\"jpg\"},{\"id\":482918,\"title\":\"Aloo Matar: Indian Pea and Potato Curry\",\"image\":\"https://spoonacular.com/recipeImages/482918-312x231.jpg\",\"imageType\":\"jpg\"},{\"id\":553535,\"title\":\"Easy Chick Pea and Spinach Indian Curry\",\"image\":\"https://spoonacular.com/recipeImages/553535-312x231.jpg\",\"imageType\":\"jpg\"},{\"id\":486890,\"title\":\"aloo palak, how to make aloo palak | aloo palak curry\",\"image\":\"https://spoonacular.com/recipeImages/486890-312x231.jpg\",\"imageType\":\"jpg\"},{\"id\":483627,\"title\":\"Slow Cooker Vegetable Curry with Chickpeas\",\"image\":\"https://spoonacular.com/recipeImages/483627-312x231.jpg\",\"imageType\":\"jpg\"},{\"id\":263904,\"title\":\"Chana Palak Masala\",\"image\":\"https://spoonacular.com/recipeImages/263904-312x231.jpg\",\"imageType\":\"jpg\"},{\"id\":759819,\"title\":\"South Indian Stuffed Peppers\",\"image\":\"https://spoonacular.com/recipeImages/759819-312x231.jpg\",\"imageType\":\"jpg\"}],\"offset\":0,\"number\":10,\"totalResults\":1621}\n"
     ]
    }
   ],
   "source": [
    "#url found from right hand panel\n",
    "url = 'https://spoonacular-recipe-food-nutrition-v1.p.rapidapi.com/recipes/complexSearch'\n",
    "\n",
    "#get inputs\n",
    "# time=input('How many minutes do you have to prepare this meal? ')\n",
    "# cuisine=input('Which cuisine do you like? ')\n",
    "ingres=input('Which ingredients do you have in your fridge? ')\n",
    "\n",
    "#params={\"maxReadyTime\":time,\n",
    "#set params\n",
    "params={\"cuisine\":\"Indian\",\n",
    "       \"instructionsRequired\":False,\n",
    "       'addRecipeInformation':False,\n",
    "       'includeIngredients':ingres}\n",
    "\n",
    "headers = {\n",
    "\t\"X-RapidAPI-Key\": api_key,\n",
    "\t\"X-RapidAPI-Host\": \"spoonacular-recipe-food-nutrition-v1.p.rapidapi.com\"\n",
    "}\n",
    "\n",
    "response = requests.get( url, headers=headers, params=params)\n",
    "response_json=response.json()\n",
    "print(response.text)"
   ]
  },
  {
   "cell_type": "code",
   "execution_count": 4,
   "id": "f48be988",
   "metadata": {},
   "outputs": [],
   "source": [
    "# response_dict=ast.literal_eval(response.text)"
   ]
  },
  {
   "cell_type": "code",
   "execution_count": 10,
   "id": "c72628d7",
   "metadata": {},
   "outputs": [],
   "source": [
    "# print(json.dumps(response_json,indent=4,sort_keys=True))"
   ]
  },
  {
   "cell_type": "code",
   "execution_count": 11,
   "id": "72f0d87f",
   "metadata": {},
   "outputs": [],
   "source": [
    "# response_json['results'][0]['title']"
   ]
  },
  {
   "cell_type": "code",
   "execution_count": 12,
   "id": "d6ed1d0e",
   "metadata": {},
   "outputs": [],
   "source": [
    "# response_json['results'][0]['image']"
   ]
  },
  {
   "cell_type": "code",
   "execution_count": null,
   "id": "2ca1fa72",
   "metadata": {},
   "outputs": [],
   "source": [
    "#plot how many indian dishes have (1)chicken (2)onion (3)tomato (4)stock (5)potato\n",
    "# df_indian_ingredients=pd.DataFrame\n",
    "ingredientlist=['chicken','onion','tomato','stock','potato']\n",
    "number_recipes_each_ingredient=[108,1621,....]\n"
   ]
  }
 ],
 "metadata": {
  "kernelspec": {
   "display_name": "Python 3 (ipykernel)",
   "language": "python",
   "name": "python3"
  },
  "language_info": {
   "codemirror_mode": {
    "name": "ipython",
    "version": 3
   },
   "file_extension": ".py",
   "mimetype": "text/x-python",
   "name": "python",
   "nbconvert_exporter": "python",
   "pygments_lexer": "ipython3",
   "version": "3.7.7"
  }
 },
 "nbformat": 4,
 "nbformat_minor": 5
}
