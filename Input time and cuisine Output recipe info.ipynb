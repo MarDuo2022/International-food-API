{
 "cells": [
  {
   "cell_type": "code",
   "execution_count": null,
   "id": "b8b0d406",
   "metadata": {},
   "outputs": [],
   "source": [
    "import json\n",
    "import requests\n",
    "# import pandas as pd\n",
    "# import ast\n",
    "\n",
    "from keys import api_key"
   ]
  },
  {
   "cell_type": "code",
   "execution_count": null,
   "id": "969111f0",
   "metadata": {},
   "outputs": [],
   "source": [
    "#url found from right hand panel\n",
    "url = 'https://spoonacular-recipe-food-nutrition-v1.p.rapidapi.com/recipes/complexSearch'\n",
    "\n",
    "#get inputs\n",
    "# time=input('How many minutes do you have to prepare this meal? ')\n",
    "# cuisine=input('Which cuisine do you like? ')\n",
    "ingres=input('Which ingredients do you have in your fridge? ')\n",
    "\n",
    "#params={\"maxReadyTime\":time,\n",
    "#set params\n",
    "params={\"cuisine\":\"Indian\",\n",
    "       \"instructionsRequired\":False,\n",
    "       'addRecipeInformation':False,\n",
    "       'includeIngredients':ingres}\n",
    "\n",
    "headers = {\n",
    "\t\"X-RapidAPI-Key\": api_key,\n",
    "\t\"X-RapidAPI-Host\": \"spoonacular-recipe-food-nutrition-v1.p.rapidapi.com\"\n",
    "}\n",
    "\n",
    "response = requests.get( url, headers=headers, params=params)\n",
    "response_json=response.json()\n",
    "print(response.text)"
   ]
  },
  {
   "cell_type": "code",
   "execution_count": null,
   "id": "8a8badb2",
   "metadata": {},
   "outputs": [],
   "source": [
    "# response_dict=ast.literal_eval(response.text)"
   ]
  },
  {
   "cell_type": "code",
   "execution_count": null,
   "id": "028610e6",
   "metadata": {},
   "outputs": [],
   "source": [
    "# print(json.dumps(response_json,indent=4,sort_keys=True))"
   ]
  },
  {
   "cell_type": "code",
   "execution_count": null,
   "id": "20d83e8b",
   "metadata": {},
   "outputs": [],
   "source": [
    "# response_json['results'][0]['title']"
   ]
  },
  {
   "cell_type": "code",
   "execution_count": null,
   "id": "f35f72d7",
   "metadata": {},
   "outputs": [],
   "source": [
    "# response_json['results'][0]['image']"
   ]
  },
  {
   "cell_type": "code",
   "execution_count": null,
   "id": "cde46ce9",
   "metadata": {},
   "outputs": [],
   "source": [
    "#plot how many indian dishes have (1)chicken (2)onion (3)tomato (4)stock (5)potato\n",
    "# df_indian_ingredients=pd.DataFrame\n",
    "ingredientlist=['chicken','onion','tomato','stock','potato']\n",
    "number_recipes_each_ingredient=[108,1621,....]\n"
   ]
  }
 ],
 "metadata": {
  "kernelspec": {
   "display_name": "Python 3 (ipykernel)",
   "language": "python",
   "name": "python3"
  },
  "language_info": {
   "codemirror_mode": {
    "name": "ipython",
    "version": 3
   },
   "file_extension": ".py",
   "mimetype": "text/x-python",
   "name": "python",
   "nbconvert_exporter": "python",
   "pygments_lexer": "ipython3",
   "version": "3.7.7"
  }
 },
 "nbformat": 4,
 "nbformat_minor": 5
}
